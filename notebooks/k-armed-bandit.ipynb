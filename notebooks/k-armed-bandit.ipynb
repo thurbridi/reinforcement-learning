{
 "cells": [
  {
   "cell_type": "markdown",
   "metadata": {},
   "source": [
    "# The k-armed Bandit Problem\n",
    "Imagine a slot machine with k different levers (actions) to choose from, each one of those levers has an expected reward given that that action is selected. The problem is that we do not know what's the true value of each action, but would like to act in such a manner as to maximize the accumulated rewards over time."
   ]
  },
  {
   "cell_type": "code",
   "execution_count": 1,
   "metadata": {},
   "outputs": [],
   "source": [
    "import numpy as np\n",
    "import matplotlib.pyplot as plt"
   ]
  },
  {
   "cell_type": "code",
   "execution_count": 2,
   "metadata": {},
   "outputs": [],
   "source": [
    "class KArmedBandit:\n",
    "    def __init__(self, k):\n",
    "        self.arms = []\n",
    "        means = np.random.normal(size=k, loc=0, scale=1)\n",
    "        self.optimal_action = np.argmax(means) # for statistics\n",
    "        for i in range(k):\n",
    "            self.arms.append((means[i], 1))\n",
    "            \n",
    "    def pull(self, action):\n",
    "        mu, sigma = self.arms[action]\n",
    "        return np.random.normal(mu, sigma)"
   ]
  },
  {
   "cell_type": "markdown",
   "metadata": {},
   "source": [
    "## Action-value methods\n",
    "Action-value methods create a mapping from action to the estimated value for that action.\n",
    "\n",
    "### Sample average\n",
    "It is effectively the mean of all the rewards received so far for an action $a$. The following is the incremental version that saves computation time and memory.\n",
    "\n",
    "$Q_{n+1}(a) = Q_n(a) + \\frac{1}{n} [R_n - Q_n(a)]$\n",
    "\n",
    "### Exponential recency-weighted average\n",
    "Uses a fixed value $\\alpha$ to favor more recent rewards, in contrast with $\\frac{1}{n}$ which takes all rewards equally into account. \n",
    "\n",
    "$Q_{n+1}(a) = Q_n(a) + \\alpha [R_n - Q_n(a)]$\n",
    "\n",
    "## Action selection\n",
    "Action selection is important to balance the exploration vs. exploitation dynamic. Exploration is useful to discover which action is truly optimal whereas exploitation makes use of the current knowledge to maximize reward.\n",
    "### $\\epsilon$-greedy\n",
    "With probability $\\epsilon$, selects a random action, otherwise selects the greedy action defined as:\n",
    "\n",
    "$A_t = \\underset{a}{argmax} Q_t(a)$\n",
    "\n",
    "### Upper-Confidence-Bound Action Selection\n",
    "$A_t = \\underset{a}{argmax} [Q_t(a) + c \\sqrt(\\frac{\\ln t}{N_t(a)})]$\n",
    "\n",
    "If $N_t(a) = 0$ then $a$ is considered a maximizing action.\n",
    "\n",
    "## Gradient Bandit Algorithms\n",
    "Gradient bandit algorithms actually learn a numerical preference for each action instead of the action's expected value, and always chooses the action with higher probability $\\pi_t(a)$ that follows a soft-max distribution\n",
    "\n",
    "$Pr\\{A_t = a\\} = \\frac{e^{H_t(a)}}{\\sum_{b=1}^{k} e^{H_t(b)}} = \\pi_t(a)$\n",
    "\n",
    "The numeric preference $H_t(a)$ update is defined as: \n",
    "\n",
    "$H_{t+1}(A_t) = H_{t}(A_t) + \\alpha (R_t - \\bar{R}_t)(1 - \\pi_t(A_t))$, and\n",
    "\n",
    "$H_{t+1}(a) = H_{t}(a) - \\alpha (R_t - \\bar{R}_t)\\pi_t(a)$, for all $a \\neq A_t$\n",
    "\n",
    "where $\\bar{R}_t$ is an average of all rewards received at time t \n"
   ]
  },
  {
   "cell_type": "code",
   "execution_count": 3,
   "metadata": {},
   "outputs": [],
   "source": [
    "# Action Value Methods\n",
    "class SampleAverage:    \n",
    "    def __init__(self, k):\n",
    "        self.n = np.zeros(k)\n",
    "        \n",
    "    def action_count(self):\n",
    "        return self.n\n",
    "        \n",
    "    def __call__(self, q, action, reward):\n",
    "        self.n[action] += 1\n",
    "        current_estimate = q[action]\n",
    "        q[action] = current_estimate + (1 / self.n[action]) * (reward - current_estimate)\n",
    "        return q\n",
    "    \n",
    "class ExponentialRecencyWeightedAverage:\n",
    "    def __init__(self, alpha):\n",
    "        self.alpha = alpha\n",
    "        \n",
    "    def __call__(self, q, action, reward):\n",
    "        current_estimate = q[action]\n",
    "        q[action] = current_estimate + alpha * (reward - current_estimate)\n",
    "        return q\n",
    "\n",
    "\n",
    "# Action Selection\n",
    "class EpsilonGreedy:\n",
    "    def __init__(self, epsilon):\n",
    "        self.epsilon = epsilon\n",
    "    \n",
    "    def __call__(self, q):\n",
    "        # Sample random action\n",
    "        if np.random.uniform() < self.epsilon:\n",
    "            return np.random.randint(0, k)\n",
    "        # Sample from best actions\n",
    "        else:\n",
    "            return np.random.choice(np.argwhere(q == np.max(q)).flatten())\n",
    "        \n",
    "class UCB:\n",
    "    def __init__(self, c, k):\n",
    "        self.c = c\n",
    "        self.n = np.zeros(k, dtype=np.int)\n",
    "        \n",
    "    def __call__(self, q):\n",
    "        not_taken = np.argwhere(self.n == 0).flatten()\n",
    "        if np.any(not_taken):\n",
    "            action = not_taken[0]\n",
    "            self.n[action] += 1\n",
    "            return action\n",
    "        \n",
    "        t = np.sum(self.n) + 1\n",
    "        action = np.argmax(q + c * np.sqrt(np.log(t)/self.n))\n",
    "        self.n[action] += 1\n",
    "        return action\n",
    "        \n",
    "        \n",
    "# Gradient Bandit        \n",
    "class GradientBandit:\n",
    "    def __init__(self, k, alpha=0.1, weighted_average = False):\n",
    "        self.k = k\n",
    "        self.alpha = alpha\n",
    "        self.probabilities = [self.softmax(np.zeros(k), a) for a in range(k)]\n",
    "        self.avg_reward = 0\n",
    "        self.n = 0        \n",
    "        if weighted_average:\n",
    "            self.update_average = lambda r: self.avg_reward + self.alpha * (r - self.avg_reward)\n",
    "        else:\n",
    "            self.update_average = lambda r: self.avg_reward + (1 / self.n) * (r - self.avg_reward)\n",
    "        \n",
    "    def softmax(self, h, action):\n",
    "        return np.exp(h[action]) / np.sum(np.exp(h))\n",
    "    \n",
    "    def sample_action(self, h):\n",
    "        # Use this function as action selector\n",
    "        self.probabilities = [self.softmax(h, a) for a in range(self.k)]\n",
    "        \n",
    "        return np.random.choice(self.k, p=self.probabilities)\n",
    "    \n",
    "    def __call__(self, h, action, reward):\n",
    "        for a, _ in enumerate(h):\n",
    "            if a == action:\n",
    "                h[a] = h[a] + self.alpha * (reward - self.avg_reward) * (1 - self.probabilities[a])\n",
    "            else:\n",
    "                h[a] = h[a] - self.alpha * (reward - self.avg_reward) * self.probabilities[a]\n",
    "        \n",
    "        self.n += 1\n",
    "        self.avg_reward = self.update_average(reward)\n",
    "        \n",
    "        return h        \n",
    "        "
   ]
  },
  {
   "cell_type": "markdown",
   "metadata": {},
   "source": [
    "# Testbed"
   ]
  },
  {
   "cell_type": "code",
   "execution_count": 4,
   "metadata": {},
   "outputs": [
    {
     "data": {
      "text/plain": [
       "[Text(0.5, 0, 'Steps'), Text(0, 0.5, '% Optimal Action'), (0.0, 100.0)]"
      ]
     },
     "execution_count": 4,
     "metadata": {},
     "output_type": "execute_result"
    },
    {
     "data": {
      "image/png": "[encoded data removed]",
      "text/plain": [
       "<Figure size 432x288 with 1 Axes>"
      ]
     },
     "metadata": {
      "needs_background": "light"
     },
     "output_type": "display_data"
    },
    {
     "data": {
      "image/png": "[encoded data removed]",
      "text/plain": [
       "<Figure size 432x288 with 1 Axes>"
      ]
     },
     "metadata": {
      "needs_background": "light"
     },
     "output_type": "display_data"
    }
   ],
   "source": [
    "# Parameters to play with\n",
    "k = 10\n",
    "epsilon = 0.1\n",
    "alpha = 0.1\n",
    "c = 2\n",
    "runs = 2000\n",
    "steps = 1000\n",
    "\n",
    "history = {\n",
    "    'reward': np.zeros((runs, steps)),\n",
    "    'optimal_action': np.zeros((runs, steps))\n",
    "}\n",
    "\n",
    "for run in range(runs):\n",
    "    # Initialize a new test\n",
    "    bandit = KArmedBandit(k)\n",
    "    update_rule = GradientBandit(k, alpha)\n",
    "    action_selector = update_rule.sample_action\n",
    "    q = np.zeros(k)    \n",
    "    \n",
    "    # Loop\n",
    "    for step in range(steps):\n",
    "        action = action_selector(q)\n",
    "        \n",
    "        reward = bandit.pull(action)\n",
    "\n",
    "        q = update_rule(q, action, reward)\n",
    "\n",
    "        history['reward'][run, step] = reward\n",
    "        history['optimal_action'][run, step] = action == bandit.optimal_action # for statistics\n",
    "\n",
    "# Summarize\n",
    "avg_reward = np.sum(history['reward'], 0) / runs\n",
    "optimal_action_percent = np.sum(history['optimal_action'], 0) * 100 / runs\n",
    "\n",
    "# Plot average Rewards\n",
    "fig, ax = plt.subplots()\n",
    "ax.plot(np.arange(steps), avg_reward)\n",
    "ax.set(xlabel='Steps', ylabel='Average Reward', ylim=(0, 1.5))\n",
    "\n",
    "# Plot % Optimal Action\n",
    "fig, ax = plt.subplots()\n",
    "ax.plot(np.arange(steps), optimal_action_percent)\n",
    "ax.set(xlabel='Steps', ylabel='% Optimal Action', ylim=(0, 100))"
   ]
  }
 ],
 "metadata": {
  "kernelspec": {
   "display_name": "Python 3",
   "language": "python",
   "name": "python3"
  },
  "language_info": {
   "codemirror_mode": {
    "name": "ipython",
    "version": 3
   },
   "file_extension": ".py",
   "mimetype": "text/x-python",
   "name": "python",
   "nbconvert_exporter": "python",
   "pygments_lexer": "ipython3",
   "version": "3.8.5"
  }
 },
 "nbformat": 4,
 "nbformat_minor": 4
}
